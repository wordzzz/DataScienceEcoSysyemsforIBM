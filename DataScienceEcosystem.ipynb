{
 "cells": [
  {
   "cell_type": "markdown",
   "id": "315a4ed1-177b-4184-81a1-4bc4d068a6c8",
   "metadata": {},
   "source": [
    "# Data Science Tools and Ecosystems"
   ]
  },
  {
   "cell_type": "markdown",
   "id": "c197f40c-858f-483c-add1-084f31af21bc",
   "metadata": {},
   "source": [
    "In this notebook, Data Science Tools and Ecosystems are summarized."
   ]
  },
  {
   "cell_type": "markdown",
   "id": "4018a9ff-7801-4056-bd3f-1e2b1c42e6b0",
   "metadata": {},
   "source": [
    "Objectives: \n",
    "- What languages are popular with Data Scientists\n",
    "- What libraries do Data Scientists use?\n",
    "- How to do simple arithmetic in Python\n",
    "- How to make tables and headings in markdown cells"
   ]
  },
  {
   "cell_type": "markdown",
   "id": "0449c9b8-f56d-4f85-8e5d-49bf9cacc6c0",
   "metadata": {},
   "source": [
    "## Author\n",
    "Vincel Cordry"
   ]
  },
  {
   "cell_type": "markdown",
   "id": "2c320a4b-af13-4e01-9391-a987346c50f7",
   "metadata": {},
   "source": [
    "Some of the popular languages that Data Scientists use are:"
   ]
  },
  {
   "cell_type": "markdown",
   "id": "6b50e7b2-2917-48e4-91fd-25ff41f660bf",
   "metadata": {
    "tags": []
   },
   "source": [
    "1. Python\n",
    "2. SQL\n",
    "3. R"
   ]
  },
  {
   "cell_type": "markdown",
   "id": "42737bb2-9cbe-497f-aae0-302380f8e95c",
   "metadata": {},
   "source": [
    "Some of the commonly used libraries by Data Scientists include:"
   ]
  },
  {
   "cell_type": "markdown",
   "id": "f3d236e4-4e35-4af2-862a-1f6843987f47",
   "metadata": {},
   "source": [
    "1. NumPy\n",
    "2. Pandas\n",
    "3. Matplotlib"
   ]
  },
  {
   "cell_type": "markdown",
   "id": "115103fa-0f5f-4940-9ce6-bfbcb0fbeacb",
   "metadata": {},
   "source": [
    "| Data Science Tools |\n",
    "| --- |\n",
    "| Jupyter Notebook |\n",
    "| Google Colab |\n",
    "| GitHub |"
   ]
  },
  {
   "cell_type": "markdown",
   "id": "0732d4f7-3e61-4ca6-abca-d09cc26bf6cc",
   "metadata": {},
   "source": [
    "### Below are a few examples of evaluating arithmetic expression in Python"
   ]
  },
  {
   "cell_type": "markdown",
   "id": "8c089162-099f-4d31-ae70-76c783f17854",
   "metadata": {},
   "source": [
    "This is a simple arithmetic expression to multiply then add intergers"
   ]
  },
  {
   "cell_type": "code",
   "execution_count": 2,
   "id": "13257ef3-a4c4-4fa7-8049-cc8fad5a03e0",
   "metadata": {
    "tags": []
   },
   "outputs": [
    {
     "data": {
      "text/plain": [
       "17"
      ]
     },
     "execution_count": 2,
     "metadata": {},
     "output_type": "execute_result"
    }
   ],
   "source": [
    "(3*4)+5"
   ]
  },
  {
   "cell_type": "markdown",
   "id": "936b391c-f020-4741-a99b-b7d460773367",
   "metadata": {},
   "source": [
    "This will convert 200 minutes to hours by dividing by 60"
   ]
  },
  {
   "cell_type": "code",
   "execution_count": 3,
   "id": "e99a3efb-da29-4369-ac93-b99cdd65eb2e",
   "metadata": {
    "tags": []
   },
   "outputs": [
    {
     "data": {
      "text/plain": [
       "3.3333333333333335"
      ]
     },
     "execution_count": 3,
     "metadata": {},
     "output_type": "execute_result"
    }
   ],
   "source": [
    "200/60"
   ]
  },
  {
   "cell_type": "code",
   "execution_count": null,
   "id": "5080848b-f8bd-410f-adf2-340f481f91af",
   "metadata": {},
   "outputs": [],
   "source": []
  }
 ],
 "metadata": {
  "kernelspec": {
   "display_name": "Python",
   "language": "python",
   "name": "conda-env-python-py"
  },
  "language_info": {
   "codemirror_mode": {
    "name": "ipython",
    "version": 3
   },
   "file_extension": ".py",
   "mimetype": "text/x-python",
   "name": "python",
   "nbconvert_exporter": "python",
   "pygments_lexer": "ipython3",
   "version": "3.7.12"
  }
 },
 "nbformat": 4,
 "nbformat_minor": 5
}
